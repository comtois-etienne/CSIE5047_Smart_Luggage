{
 "cells": [
  {
   "cell_type": "markdown",
   "metadata": {},
   "source": [
    "## TODO\n",
    "class vehicle movement predictor\n",
    "put vehicle to x0,y0,a0 and rotate all the points\n",
    "receive vehicle north and host point\n"
   ]
  },
  {
   "cell_type": "code",
   "execution_count": 1,
   "metadata": {},
   "outputs": [
    {
     "name": "stdout",
     "output_type": "stream",
     "text": [
      "test\n"
     ]
    }
   ],
   "source": [
    "print('test')"
   ]
  },
  {
   "cell_type": "markdown",
   "metadata": {},
   "source": [
    "## Cameras"
   ]
  },
  {
   "cell_type": "code",
   "execution_count": 2,
   "metadata": {},
   "outputs": [],
   "source": [
    "from src.vision import Camera\n",
    "\n",
    "mba_video_camera = Camera(\n",
    "    h_fov=59.0,\n",
    "    h_res=1080,\n",
    "    v_res=720,\n",
    ")\n",
    "\n",
    "mba_photo_camera = Camera(\n",
    "    h_fov=67.0,\n",
    "    h_res=1290,\n",
    "    v_res=720,\n",
    ")\n",
    "\n",
    "zed_two_camera = Camera(\n",
    "    h_fov=110.0,\n",
    "    v_fov=70.0,\n",
    ")\n",
    "\n",
    "avg_shoulder_width = 350.0\n",
    "avg_torso_height = 460.0\n"
   ]
  },
  {
   "cell_type": "code",
   "execution_count": 3,
   "metadata": {},
   "outputs": [],
   "source": [
    "import matplotlib.pyplot as plt\n",
    "import matplotlib.patches as patches\n",
    "\n",
    "import numpy as np\n",
    "import pandas as pd\n",
    "import cv2\n",
    "import time\n",
    "\n",
    "import torch\n",
    "\n",
    "from src.vehicle import Vehicle\n",
    "from src.vehicle import VehicleMover\n",
    "from src.point import Point\n",
    "from src.vision import FakeSensor\n",
    "from src.point import create_map\n",
    "\n"
   ]
  },
  {
   "cell_type": "code",
   "execution_count": null,
   "metadata": {},
   "outputs": [],
   "source": [
    "# VEHICLE\n",
    "vehicle = Vehicle(\n",
    "    max_turn_angle=30, \n",
    "    axle_len=265, \n",
    "    max_speed=2000, \n",
    "    camera=zed_two_camera,\n",
    "    center=Point(0, 0)\n",
    ")\n",
    "\n",
    "# FAKE SENSOR\n",
    "sensor_data = pd.read_csv('dist_2fps.csv', header=None)\n",
    "sensor_data.columns = ['t', 'x', 'y']\n",
    "sensor_data['t'] = sensor_data['t'].astype(float)\n",
    "fake_sensor = FakeSensor(sensor_data, to_recenter=True)\n",
    "\n",
    "# VEHICLE MOVER\n",
    "vehicle_mover = VehicleMover(vehicle, fake_sensor, smoothing=4)\n",
    "\n",
    "while not vehicle_mover.is_done():\n",
    "    incoming, passed, last_seen, target = vehicle_mover.step()\n",
    "\n",
    "    fig, ax = create_map(Point(0, 0), 6000, 6)\n",
    "    ax.scatter(target.y, target.x, marker='x', color='b')\n",
    "    ax.plot(incoming['y'], incoming['x'], label='Spline')\n",
    "    ax.plot(passed['y'], passed['x'], label='Passed')\n",
    "    Point(0, 0).scatter(ax, color='r', size=20)\n",
    "    for x in range(len(vehicle_mover.seen)):\n",
    "        Point.from_df(vehicle_mover.seen.iloc[x]).scatter(ax, color='k', size=20)\n",
    "    \n",
    "    ax.plot(vehicle_mover.actual_path['y'], vehicle_mover.actual_path['x'], label='Actual Path')\n",
    "\n",
    "    fake_sensor.scatter_host(ax, vehicle)\n",
    "    vehicle.plot(ax)\n",
    "    ax.legend()\n",
    "    plt.show()\n",
    "\n",
    "\n",
    "# if the angle is more than agle max, back up and turn"
   ]
  }
 ],
 "metadata": {
  "kernelspec": {
   "display_name": "smartl",
   "language": "python",
   "name": "python3"
  },
  "language_info": {
   "codemirror_mode": {
    "name": "ipython",
    "version": 3
   },
   "file_extension": ".py",
   "mimetype": "text/x-python",
   "name": "python",
   "nbconvert_exporter": "python",
   "pygments_lexer": "ipython3",
   "version": "3.10.9"
  }
 },
 "nbformat": 4,
 "nbformat_minor": 2
}
