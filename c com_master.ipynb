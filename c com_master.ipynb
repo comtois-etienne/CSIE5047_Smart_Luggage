{
 "cells": [
  {
   "cell_type": "markdown",
   "metadata": {},
   "source": [
    "master code for rpi using usb port connection\n"
   ]
  },
  {
   "cell_type": "code",
   "execution_count": null,
   "metadata": {},
   "outputs": [],
   "source": [
    "import pandas as pd\n",
    "import serial\n",
    "import time\n",
    "\n",
    "from src.vehicle import reset_md_file, MD_FILE_PATH\n",
    "\n",
    "\n",
    "frame_rate = 4\n",
    "file_path = MD_FILE_PATH\n",
    "\n",
    "\n",
    "def send_commands(ser, speed, steering):\n",
    "    # Send speed and steering commands as strings to Arduino\n",
    "    command = f\"SPEED:{speed},STEERING:{steering}\\n\"\n",
    "    ser.write(command.encode())\n",
    "    print(f\"Sent commands - Speed: {speed}, Steering: {steering}\")\n",
    "\n",
    "\n",
    "# Define the serial port and baud rate\n",
    "ser = serial.Serial()  # Adjust the port as per your setup\n",
    "ser.port = '/dev/ttyUSB0'\n",
    "ser.baudrate = 9600\n",
    "while True:\n",
    "    start = time.time()\n",
    "    df = pd.read_csv(file_path)\n",
    "    df.columns = ['a', 's']\n",
    "    if not ser.is_open:\n",
    "        try:\n",
    "            ser.open()\n",
    "        except:\n",
    "            print(\"ERROR connection\")\n",
    "            pass\n",
    "    send_commands(ser, df.iloc[0]['s'], df.iloc[0]['a'])\n",
    "    delta = time.time() - start\n",
    "    sleep_time = (1/frame_rate) - delta\n",
    "    if sleep_time > 0:\n",
    "        time.sleep(sleep_time)\n",
    "\n"
   ]
  }
 ],
 "metadata": {
  "kernelspec": {
   "display_name": "smartl-c",
   "language": "python",
   "name": "python3"
  },
  "language_info": {
   "name": "python",
   "version": "3.10.9"
  }
 },
 "nbformat": 4,
 "nbformat_minor": 2
}
