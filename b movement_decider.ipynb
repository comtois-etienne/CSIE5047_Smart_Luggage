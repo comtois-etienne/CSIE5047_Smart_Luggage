{
 "cells": [
  {
   "cell_type": "markdown",
   "metadata": {},
   "source": [
    "## Movement Decider"
   ]
  },
  {
   "cell_type": "code",
   "execution_count": 1,
   "metadata": {},
   "outputs": [],
   "source": [
    "from src.sensor import Camera\n",
    "from src.sensor import mba_photo_camera\n",
    "from src.sensor import mba_video_camera\n",
    "from src.sensor import zed_two_camera\n",
    "from src.sensor import yt_video_camera"
   ]
  },
  {
   "cell_type": "code",
   "execution_count": 2,
   "metadata": {},
   "outputs": [],
   "source": [
    "import matplotlib.pyplot as plt\n",
    "from src.vehicle import Vehicle\n",
    "from src.vehicle import VehicleMover\n",
    "from src.vehicle import reset_md_file, MD_FILE_PATH\n",
    "from src.vision import reset_pe_file, PE_FILE_PATH\n",
    "from src.point import Point\n",
    "from src.sensor import FakeSensor, Sensor\n",
    "from src.point import create_map\n",
    "import pandas as pd\n",
    "import numpy as np\n",
    "import time"
   ]
  },
  {
   "cell_type": "code",
   "execution_count": null,
   "metadata": {},
   "outputs": [],
   "source": [
    "# RESET FILES\n",
    "reset_pe_file(PE_FILE_PATH)\n",
    "reset_md_file(MD_FILE_PATH)\n",
    "\n",
    "\n",
    "# SENSOR\n",
    "# sensor_data = pd.read_csv('csv/dist_2fps.csv', header=None)\n",
    "# sensor_data.columns = ['t', 'x', 'y']\n",
    "# sensor_data['t'] = sensor_data['t'].astype(float)\n",
    "# sensor = FakeSensor(sensor_data, to_recenter=True)\n",
    "sensor = Sensor(PE_FILE_PATH, refresh_rate=1)\n",
    "\n",
    "\n",
    "# VEHICLE\n",
    "verbose = True\n",
    "vehicle = Vehicle(\n",
    "    max_turn_angle=30, \n",
    "    axle_len=265, \n",
    "    max_speed=2000, \n",
    "    camera=zed_two_camera,\n",
    "    center=Point(0, 0)\n",
    ")\n",
    "\n",
    "\n",
    "# VEHICLE MOVER\n",
    "vehicle_mover = VehicleMover(\n",
    "    vehicle, \n",
    "    sensor, \n",
    "    MD_FILE_PATH, \n",
    "    frame_rate=4, \n",
    "    follow_distance=1200,\n",
    "    turn_distance=600,\n",
    ")\n",
    "\n",
    "\n",
    "while not vehicle_mover.is_done():\n",
    "    start = time.time()\n",
    "    incoming, passed, last_seen, target = vehicle_mover.step()\n",
    "\n",
    "    if verbose:\n",
    "        fig, ax = create_map(Point(0, 0), 10000, 6)\n",
    "        ax.scatter(target.y, target.x, marker='x', color='b')\n",
    "        ax.plot(incoming['y'], incoming['x'], label='Spline')\n",
    "        ax.plot(passed['y'], passed['x'], label='Passed')\n",
    "        Point(0, 0).scatter(ax, color='r', size=20)\n",
    "        for x in range(len(vehicle_mover.seen)):\n",
    "            Point.from_df(vehicle_mover.seen.iloc[x]).scatter(ax, color='k', size=20)\n",
    "\n",
    "        ax.plot(vehicle_mover.actual_path['y'], vehicle_mover.actual_path['x'], label='Actual Path')\n",
    "\n",
    "        sensor.scatter_host(ax, vehicle)\n",
    "        vehicle.plot(ax)\n",
    "        ax.legend()\n",
    "        plt.show()\n",
    "\n",
    "    delta = time.time() - start\n",
    "    wait_time = vehicle_mover.frame_time() - delta\n",
    "    if wait_time > 0: time.sleep(wait_time)\n",
    "    else: print(f'No time to wait')\n",
    "\n"
   ]
  }
 ],
 "metadata": {
  "kernelspec": {
   "display_name": "smartl",
   "language": "python",
   "name": "python3"
  },
  "language_info": {
   "codemirror_mode": {
    "name": "ipython",
    "version": 3
   },
   "file_extension": ".py",
   "mimetype": "text/x-python",
   "name": "python",
   "nbconvert_exporter": "python",
   "pygments_lexer": "ipython3",
   "version": "3.10.9"
  }
 },
 "nbformat": 4,
 "nbformat_minor": 2
}
