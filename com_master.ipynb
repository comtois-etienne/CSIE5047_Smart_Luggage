{
 "cells": [
  {
   "cell_type": "markdown",
   "metadata": {},
   "source": [
    "master code for rpi using usb port connection\n"
   ]
  },
  {
   "cell_type": "code",
   "execution_count": null,
   "metadata": {},
   "outputs": [],
   "source": [
    "import serial\n",
    "import time\n",
    "import vehicle\n",
    "\n",
    "def send_commands(ser, speed, steering):\n",
    "    # Send speed and steering commands as strings to Arduino\n",
    "    command = f\"SPEED:{speed},STEERING:{steering}\\n\"\n",
    "    ser.write(command.encode())\n",
    "    print(f\"Sent commands - Speed: {speed}, Steering: {steering}\")\n",
    "\n",
    "\n",
    "if __name__ == \"__main__\":\n",
    "    # Define the serial port and baud rate\n",
    "    ser = serial.Serial()  # Adjust the port as per your setup\n",
    "    ser.port = '/dev/ttyUSB0'\n",
    "    ser.baudrate = 9600\n",
    "    while 1:\n",
    "        if not ser.is_open:\n",
    "            try:\n",
    "                ser.open()\n",
    "            except:\n",
    "                print(\"ERROR connection\")\n",
    "                pass\n",
    "        else:\n",
    "            send_commands(ser, speed, steering)\n",
    "        time.sleep(0.1)\n",
    "\n",
    "\n",
    "\n",
    "\n",
    "\n"
   ]
  },
  {
   "cell_type": "markdown",
   "metadata": {},
   "source": [
    "#using lib"
   ]
  },
  {
   "cell_type": "code",
   "execution_count": null,
   "metadata": {},
   "outputs": [],
   "source": [
    "# Example usage:\n",
    "while True:\n",
    "    speed_value = 3.14  # Replace with your desired speed value\n",
    "    steering_value = 0.5  # Replace with your desired steering value\n",
    "    send_commands(speed_value, steering_value)\n",
    "    time.sleep(0.1)  # 10 Hz, 0.1 seconds delay\n",
    "\n",
    "# Close the serial port when done (unreachable in this example due to infinite loop)\n",
    "ser.close()"
   ]
  }
 ],
 "metadata": {
  "language_info": {
   "name": "python"
  }
 },
 "nbformat": 4,
 "nbformat_minor": 2
}
